{
 "cells": [
  {
   "cell_type": "code",
   "execution_count": 15,
   "id": "173bbbcd-db64-4b06-bc71-ce1e1db4726b",
   "metadata": {},
   "outputs": [],
   "source": [
    "import pandas as pd\n",
    "import numpy as np\n",
    "import matplotlib.pyplot as plt\n"
   ]
  },
  {
   "cell_type": "code",
   "execution_count": 16,
   "id": "80468424-e9f8-4c06-bf18-e019f58b0e6a",
   "metadata": {},
   "outputs": [
    {
     "name": "stdout",
     "output_type": "stream",
     "text": [
      "<class 'pandas.core.frame.DataFrame'>\n",
      "RangeIndex: 10000 entries, 0 to 9999\n",
      "Data columns (total 10 columns):\n",
      " #   Column                    Non-Null Count  Dtype \n",
      "---  ------                    --------------  ----- \n",
      " 0   Student ID                10000 non-null  int64 \n",
      " 1   Session ID                10000 non-null  int64 \n",
      " 2   Date                      10000 non-null  object\n",
      " 3   EEG Data (PSD Features)   10000 non-null  object\n",
      " 4   Engagement Level          10000 non-null  object\n",
      " 5   Attention Level           10000 non-null  object\n",
      " 6   Internet Connectivity     10000 non-null  object\n",
      " 7   Adaptivity Level          10000 non-null  object\n",
      " 8   Learning Mode Prediction  10000 non-null  object\n",
      " 9   Performance Metrics       10000 non-null  int64 \n",
      "dtypes: int64(3), object(7)\n",
      "memory usage: 781.4+ KB\n",
      "None\n",
      "         Student ID    Session ID        Date  \\\n",
      "count   10000.00000  10000.000000       10000   \n",
      "unique          NaN           NaN          30   \n",
      "top             NaN           NaN  2025-01-14   \n",
      "freq            NaN           NaN         383   \n",
      "mean     5000.50000    149.762700         NaN   \n",
      "std      2886.89568     28.783232         NaN   \n",
      "min         1.00000    100.000000         NaN   \n",
      "25%      2500.75000    125.000000         NaN   \n",
      "50%      5000.50000    150.000000         NaN   \n",
      "75%      7500.25000    174.000000         NaN   \n",
      "max     10000.00000    199.000000         NaN   \n",
      "\n",
      "                                  EEG Data (PSD Features) Engagement Level  \\\n",
      "count                                               10000            10000   \n",
      "unique                                              10000                3   \n",
      "top     [0.9105002972542919, 0.5379836311379866, 0.170...              Low   \n",
      "freq                                                    1             3366   \n",
      "mean                                                  NaN              NaN   \n",
      "std                                                   NaN              NaN   \n",
      "min                                                   NaN              NaN   \n",
      "25%                                                   NaN              NaN   \n",
      "50%                                                   NaN              NaN   \n",
      "75%                                                   NaN              NaN   \n",
      "max                                                   NaN              NaN   \n",
      "\n",
      "       Attention Level Internet Connectivity Adaptivity Level  \\\n",
      "count            10000                 10000            10000   \n",
      "unique               3                     3                3   \n",
      "top           Moderate      Moderate (Wi-Fi)         Moderate   \n",
      "freq              3385                  3389             3360   \n",
      "mean               NaN                   NaN              NaN   \n",
      "std                NaN                   NaN              NaN   \n",
      "min                NaN                   NaN              NaN   \n",
      "25%                NaN                   NaN              NaN   \n",
      "50%                NaN                   NaN              NaN   \n",
      "75%                NaN                   NaN              NaN   \n",
      "max                NaN                   NaN              NaN   \n",
      "\n",
      "       Learning Mode Prediction  Performance Metrics  \n",
      "count                     10000         10000.000000  \n",
      "unique                        3                  NaN  \n",
      "top         Kinesthetic Learner                  NaN  \n",
      "freq                       3374                  NaN  \n",
      "mean                        NaN            74.674300  \n",
      "std                         NaN            14.383404  \n",
      "min                         NaN            50.000000  \n",
      "25%                         NaN            62.000000  \n",
      "50%                         NaN            75.000000  \n",
      "75%                         NaN            87.000000  \n",
      "max                         NaN            99.000000  \n",
      "Student ID                  0\n",
      "Session ID                  0\n",
      "Date                        0\n",
      "EEG Data (PSD Features)     0\n",
      "Engagement Level            0\n",
      "Attention Level             0\n",
      "Internet Connectivity       0\n",
      "Adaptivity Level            0\n",
      "Learning Mode Prediction    0\n",
      "Performance Metrics         0\n",
      "dtype: int64\n"
     ]
    }
   ],
   "source": [
    "df = pd.read_csv(\"student_engagement_data_10000.csv\")\n",
    "print(df.info())\n",
    "print(df.describe(include=\"all\"))\n",
    "print(df.isnull().sum())\n"
   ]
  },
  {
   "cell_type": "code",
   "execution_count": 21,
   "id": "bf0d5f6f-c901-4331-9bd1-4f62e2a18557",
   "metadata": {},
   "outputs": [
    {
     "name": "stdout",
     "output_type": "stream",
     "text": [
      "<class 'pandas.core.frame.DataFrame'>\n",
      "RangeIndex: 10000 entries, 0 to 9999\n",
      "Data columns (total 10 columns):\n",
      " #   Column                    Non-Null Count  Dtype \n",
      "---  ------                    --------------  ----- \n",
      " 0   Student ID                10000 non-null  int64 \n",
      " 1   Session ID                10000 non-null  int64 \n",
      " 2   Date                      10000 non-null  object\n",
      " 3   EEG Data (PSD Features)   10000 non-null  object\n",
      " 4   Engagement Level          10000 non-null  object\n",
      " 5   Attention Level           10000 non-null  object\n",
      " 6   Internet Connectivity     10000 non-null  object\n",
      " 7   Adaptivity Level          10000 non-null  object\n",
      " 8   Learning Mode Prediction  10000 non-null  object\n",
      " 9   Performance Metrics       10000 non-null  int64 \n",
      "dtypes: int64(3), object(7)\n",
      "memory usage: 781.4+ KB\n",
      "None\n",
      "        Student ID    Session ID  Performance Metrics\n",
      "count  10000.00000  10000.000000         10000.000000\n",
      "mean    5000.50000    149.762700            74.674300\n",
      "std     2886.89568     28.783232            14.383404\n",
      "min        1.00000    100.000000            50.000000\n",
      "25%     2500.75000    125.000000            62.000000\n",
      "50%     5000.50000    150.000000            75.000000\n",
      "75%     7500.25000    174.000000            87.000000\n",
      "max    10000.00000    199.000000            99.000000\n",
      "Missing values:\n",
      " Student ID                  0\n",
      "Session ID                  0\n",
      "Date                        0\n",
      "EEG Data (PSD Features)     0\n",
      "Engagement Level            0\n",
      "Attention Level             0\n",
      "Internet Connectivity       0\n",
      "Adaptivity Level            0\n",
      "Learning Mode Prediction    0\n",
      "Performance Metrics         0\n",
      "dtype: int64\n"
     ]
    }
   ],
   "source": [
    "\n",
    "\n",
    "# 1. Basic Summary\n",
    "print(df.info())\n",
    "print(df.describe())\n",
    "print(\"Missing values:\\n\", df.isnull().sum())\n",
    "\n",
    "if 'learning_mode' in df.columns:\n",
    "    print(df['learning_mode'].value_counts())\n",
    "if 'student_id' in df.columns:\n",
    "    print(df['student_id'].nunique(), \"unique students\")\n",
    "\n",
    "# 2. Daily Average Engagement & Attention\n",
    "if 'date' in df.columns:\n",
    "    df['date'] = pd.to_datetime(df['date'])\n",
    "    daily = df.groupby('date')[['engagement','attention']].mean()\n",
    "    daily.plot(title=\"Daily Avg Engagement & Attention\", figsize=(10,5))\n",
    "    plt.show()\n",
    "\n",
    "# 3. Most & Least Engaged Students\n",
    "if 'student_id' in df.columns:\n",
    "    student_avg = df.groupby('student_id')['engagement'].mean()\n",
    "    student_avg.sort_values(ascending=False).head(10).plot(kind='bar', title=\"Top 10 Students\", figsize=(10,5))\n",
    "    plt.show()\n",
    "    student_avg.sort_values().head(10).plot(kind='bar', title=\"Bottom 10 Students\", figsize=(10,5), color='red')\n",
    "    plt.show()\n",
    "\n",
    "# 4. Engagement by Learning Mode\n",
    "if 'learning_mode' in df.columns:\n",
    "    df.groupby('learning_mode')['engagement'].mean().plot(kind='bar', title=\"Engagement by Learning Mode\", figsize=(6,4))\n",
    "    plt.show()\n"
   ]
  },
  {
   "cell_type": "code",
   "execution_count": null,
   "id": "cd447025-dcfa-4f48-a21d-fabeaa860a3c",
   "metadata": {},
   "outputs": [],
   "source": []
  },
  {
   "cell_type": "code",
   "execution_count": null,
   "id": "a0af5ded-c161-47d5-bfb5-67b3378e0ca5",
   "metadata": {},
   "outputs": [],
   "source": []
  },
  {
   "cell_type": "code",
   "execution_count": null,
   "id": "4f5f065f-1a78-4473-b915-ad846303c03c",
   "metadata": {},
   "outputs": [],
   "source": []
  },
  {
   "cell_type": "code",
   "execution_count": null,
   "id": "68f48f8a-4e2d-48d5-9dc6-ce886eddd25b",
   "metadata": {},
   "outputs": [],
   "source": []
  },
  {
   "cell_type": "code",
   "execution_count": null,
   "id": "5d25592f-d2a6-42a0-b042-0887b3777914",
   "metadata": {},
   "outputs": [],
   "source": []
  },
  {
   "cell_type": "code",
   "execution_count": null,
   "id": "574fa4cf-2771-4048-bc30-e092c7bb07fd",
   "metadata": {},
   "outputs": [],
   "source": []
  },
  {
   "cell_type": "code",
   "execution_count": null,
   "id": "ccece237-59db-441d-8788-45bb2c9e5586",
   "metadata": {},
   "outputs": [],
   "source": []
  },
  {
   "cell_type": "code",
   "execution_count": null,
   "id": "b162f6db-1c30-4c4c-bd03-48b151afb666",
   "metadata": {},
   "outputs": [],
   "source": []
  },
  {
   "cell_type": "code",
   "execution_count": null,
   "id": "4321beb3-ecae-4f3d-ba1b-76b59e56393d",
   "metadata": {},
   "outputs": [],
   "source": []
  },
  {
   "cell_type": "code",
   "execution_count": null,
   "id": "9eccf2c7-111f-4ffd-a9f8-dc66daca1c30",
   "metadata": {},
   "outputs": [],
   "source": []
  },
  {
   "cell_type": "code",
   "execution_count": null,
   "id": "8dfe95d7-c3d5-4baf-8527-a5392d5eea4d",
   "metadata": {},
   "outputs": [],
   "source": []
  },
  {
   "cell_type": "code",
   "execution_count": null,
   "id": "c582def0-9fbf-4d39-87d3-514c1a6ce820",
   "metadata": {},
   "outputs": [],
   "source": []
  },
  {
   "cell_type": "code",
   "execution_count": null,
   "id": "fce7b493-0820-4758-af05-8ab3270e1bcc",
   "metadata": {},
   "outputs": [],
   "source": []
  },
  {
   "cell_type": "code",
   "execution_count": null,
   "id": "5880b383-4edc-4047-9e1a-5680b3e456fc",
   "metadata": {},
   "outputs": [],
   "source": []
  },
  {
   "cell_type": "code",
   "execution_count": null,
   "id": "e7203eb0-cd0a-4162-9b9c-a7447591a795",
   "metadata": {},
   "outputs": [],
   "source": []
  },
  {
   "cell_type": "code",
   "execution_count": null,
   "id": "4da25e4a-8c3e-4d56-9866-db3b9511b8a0",
   "metadata": {},
   "outputs": [],
   "source": []
  },
  {
   "cell_type": "code",
   "execution_count": null,
   "id": "2cdbca41-ce74-4761-a94c-41af2ad118f1",
   "metadata": {},
   "outputs": [],
   "source": []
  },
  {
   "cell_type": "code",
   "execution_count": null,
   "id": "d259c81c-31eb-4551-802d-36edcf9c2abc",
   "metadata": {},
   "outputs": [],
   "source": []
  },
  {
   "cell_type": "code",
   "execution_count": null,
   "id": "932cbb5d-a387-408b-818e-a867efa204fb",
   "metadata": {},
   "outputs": [],
   "source": []
  },
  {
   "cell_type": "code",
   "execution_count": null,
   "id": "136ed816-52ef-4ea1-8b11-86c3d5ae9a11",
   "metadata": {},
   "outputs": [],
   "source": []
  },
  {
   "cell_type": "code",
   "execution_count": null,
   "id": "215ca452-73c7-4188-bf89-c215461b4137",
   "metadata": {},
   "outputs": [],
   "source": []
  },
  {
   "cell_type": "code",
   "execution_count": null,
   "id": "e2cab1fb-9103-4ca9-bea2-6ce0285dcf29",
   "metadata": {},
   "outputs": [],
   "source": []
  },
  {
   "cell_type": "code",
   "execution_count": null,
   "id": "d17b8622-662c-463d-871b-071ecf6285d2",
   "metadata": {},
   "outputs": [],
   "source": []
  },
  {
   "cell_type": "code",
   "execution_count": null,
   "id": "398f8f4d-b372-4ec9-b1c8-eabfcc82742e",
   "metadata": {},
   "outputs": [],
   "source": []
  },
  {
   "cell_type": "code",
   "execution_count": null,
   "id": "6c85f0d5-0a78-4ce1-aa6c-75721b0e05f7",
   "metadata": {},
   "outputs": [],
   "source": []
  },
  {
   "cell_type": "code",
   "execution_count": null,
   "id": "f14439cf-2494-4048-afa5-3eff17fd2454",
   "metadata": {},
   "outputs": [],
   "source": []
  },
  {
   "cell_type": "code",
   "execution_count": null,
   "id": "27f12c47-7bc1-4ffa-9d2b-17c835559377",
   "metadata": {},
   "outputs": [],
   "source": []
  },
  {
   "cell_type": "code",
   "execution_count": null,
   "id": "37ca64ea-fb10-41e4-afe8-528c1a4683ad",
   "metadata": {},
   "outputs": [],
   "source": []
  },
  {
   "cell_type": "code",
   "execution_count": null,
   "id": "9b40f390-6e65-4f0d-93a9-77c6690049e4",
   "metadata": {},
   "outputs": [],
   "source": []
  },
  {
   "cell_type": "code",
   "execution_count": null,
   "id": "e90e3130-f653-42e3-b0d6-a23c7765d2d9",
   "metadata": {},
   "outputs": [],
   "source": []
  },
  {
   "cell_type": "code",
   "execution_count": null,
   "id": "c8441a0d-de00-42d5-befc-a9e05b41c69e",
   "metadata": {},
   "outputs": [],
   "source": []
  }
 ],
 "metadata": {
  "kernelspec": {
   "display_name": "Python 3 (ipykernel)",
   "language": "python",
   "name": "python3"
  },
  "language_info": {
   "codemirror_mode": {
    "name": "ipython",
    "version": 3
   },
   "file_extension": ".py",
   "mimetype": "text/x-python",
   "name": "python",
   "nbconvert_exporter": "python",
   "pygments_lexer": "ipython3",
   "version": "3.13.2"
  }
 },
 "nbformat": 4,
 "nbformat_minor": 5
}
